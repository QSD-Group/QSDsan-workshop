{
 "cells": [
  {
   "cell_type": "markdown",
   "id": "7b427609",
   "metadata": {},
   "source": [
    "# `QSDsan` Workshop Interactive Module <a class=\"anchor\" id=\"top\"></a>\n",
    "\n",
    "- **Prepared by:**\n",
    "    \n",
    "    - [Yalin Li](https://qsdsan.readthedocs.io/en/latest/authors/Yalin_Li.html)\n",
    "\n",
    "- **Covered topics:**\n",
    "\n",
    "    - [0. Instructions](#s0)\n",
    "    - [1. Systems, TEA, LCA, and MCDA](#s1)\n",
    "    \n",
    "        - [1.1. System set up](#s1.1)\n",
    "        - [1.2. TEA and LCA](#s1.2)\n",
    "        - [1.3. MCDA](#s1.3)\n",
    "    \n",
    "    - [2. Uncertainty and Sensitivity Analyses](#s2)\n",
    "    - [3. Country-Specific Analysis](#s3)\n",
    "\n",
    "To run this notebook in your browser, go to this [Binder page](https://mybinder.org/v2/gh/QSD-group/QSDsan-workshop/main)."
   ]
  },
  {
   "cell_type": "code",
   "execution_count": 1,
   "id": "97288eae",
   "metadata": {},
   "outputs": [],
   "source": [
    "#!!! Delete when testing with the released `qsdsan`\n",
    "import os, sys\n",
    "cwd = sys.path[0]\n",
    "for abbr in ('tmo', 'bst', 'qs'):\n",
    "    sys.path.append(os.path.abspath(os.path.join(cwd, f'../{abbr}')))"
   ]
  },
  {
   "cell_type": "markdown",
   "id": "30056735",
   "metadata": {},
   "source": [
    "## 0. Instructions <a class=\"anchor\" id=\"s0\"></a>\n",
    "Detailed instructions on how to use Jupyter Notebook can be found [here](https://realpython.com/jupyter-notebook-introduction/) (there are many online, this is just one example).\n",
    "\n",
    "The key things to know about is that you can run a cell using `shift`/`ctrl`/`cmd`+`enter` or the `▶`/`▶Run` button on the menu bar as below.\n",
    "<img src='files/run.png' alt='run'/>"
   ]
  },
  {
   "cell_type": "markdown",
   "id": "d302b683",
   "metadata": {},
   "source": [
    "Each of the three sections has multiple code cells. After you run all the cells, you will see prompts in the last cell and can play with it. You can use the \"Back to top\" link to go back to the top and select another section.\n",
    "\n",
    "Remember that everything marked with \"A\" (e.g., `sysA`) is related to the pit latrine system and \"B\" is related to the urine-diverting dry toilet (UDDT) system.\n",
    "\n",
    "Have fun!"
   ]
  },
  {
   "cell_type": "markdown",
   "id": "7ab37409",
   "metadata": {},
   "source": [
    "[Back to top](#top)"
   ]
  },
  {
   "cell_type": "markdown",
   "id": "d171bcf5",
   "metadata": {},
   "source": [
    "## 1. Systems, TEA, LCA, and MCDA <a class=\"anchor\" id=\"s1\"></a>"
   ]
  },
  {
   "cell_type": "markdown",
   "id": "607e491d",
   "metadata": {},
   "source": [
    "### 1.1. System set up <a class=\"anchor\" id=\"s1.1\"></a>"
   ]
  },
  {
   "cell_type": "code",
   "execution_count": 2,
   "id": "3583fc21",
   "metadata": {},
   "outputs": [],
   "source": [
    "from ipywidgets import widgets as w\n",
    "from systems import sysA, sysB\n",
    "\n",
    "# Placeholders for outputs\n",
    "diagram_out = w.Output()\n",
    "\n",
    "# Display the system diagrams\n",
    "def get_img_widget(file_path):\n",
    "    file = open(file_path, 'rb')\n",
    "    widget = w.Image(value=file.read(), format='png')\n",
    "    return widget\n",
    "diagramA_lbl = w.Label('Diagram for sysA:')\n",
    "diagramB_lbl = w.Label('Diagram for sysB:')\n",
    "diagramA =  get_img_widget('files/sysA.png')\n",
    "diagramB =  get_img_widget('files/sysB.png')\n",
    "\n",
    "def display_diagrams():\n",
    "    with diagram_out:\n",
    "        display(diagramA_lbl)\n",
    "        display(diagramA)\n",
    "        display(diagramB_lbl)\n",
    "        display(diagramB)\n",
    "\n",
    "##### Compiled run function #####\n",
    "def run_system_interactive():\n",
    "    display_diagrams()\n",
    "    display(diagram_out)"
   ]
  },
  {
   "cell_type": "code",
   "execution_count": 3,
   "id": "34aa116d",
   "metadata": {
    "scrolled": false
   },
   "outputs": [
    {
     "data": {
      "application/vnd.jupyter.widget-view+json": {
       "model_id": "fd3b3e2a9ae84684a0e6be8ab8e475b2",
       "version_major": 2,
       "version_minor": 0
      },
      "text/plain": [
       "Output()"
      ]
     },
     "metadata": {},
     "output_type": "display_data"
    }
   ],
   "source": [
    "run_system_interactive()"
   ]
  },
  {
   "cell_type": "markdown",
   "id": "bc6ceb2e",
   "metadata": {},
   "source": [
    "[Back to top](#top)"
   ]
  },
  {
   "cell_type": "markdown",
   "id": "fcd62805",
   "metadata": {},
   "source": [
    "### 1.2. TEA and LCA <a class=\"anchor\" id=\"s1.2\"></a>"
   ]
  },
  {
   "cell_type": "code",
   "execution_count": 18,
   "id": "5fa7c3a2",
   "metadata": {},
   "outputs": [],
   "source": [
    "from ipywidgets import widgets as w\n",
    "from systems import sysA, sysB, plot_tea_lca\n",
    "\n",
    "# Placeholders for outputs\n",
    "choice_out = w.Output()\n",
    "divider_out = w.Output()\n",
    "result_out = w.Output()\n",
    "\n",
    "##### User inputs #####\n",
    "opt_lbl = w.Label('Which TEA/LCA metric(s) are you interested in (one or more)?')\n",
    "\n",
    "tea_opts = ['net', 'CAPEX', 'OPEX', 'sales']\n",
    "tea_box = w.SelectMultiple(\n",
    "    options=tea_opts,\n",
    "    value=['net'],\n",
    "    rows=len(tea_opts),\n",
    "    description='TEA metrics',\n",
    "    disabled=False,\n",
    "    style={'description_width': 'initial'},\n",
    "    layout={'width':'50%'}\n",
    ")\n",
    "\n",
    "lca_opts = ['net', 'construction', 'operating', 'transportation', 'direct', 'offset']\n",
    "lca_box = w.SelectMultiple(\n",
    "    options=lca_opts,\n",
    "    value=['net'],\n",
    "    rows=len(lca_opts),\n",
    "    description='LCA metrics',\n",
    "    disabled=False,\n",
    "    style=tea_box.style,\n",
    "    layout=tea_box.layout\n",
    ")\n",
    "\n",
    "##### Divider #####\n",
    "divider = w.Image(value=open('files/divider.png', 'rb').read(), format='png')\n",
    "\n",
    "##### Results #####\n",
    "@result_out.capture(clear_output=True, wait=True)\n",
    "def simulate(btn=None):\n",
    "    tea_metrics = tea_box.value\n",
    "    lca_metrics = lca_box.value\n",
    "    tea_msg = '\", \"'.join(tea_metrics)\n",
    "    tea_msg = '\"' + tea_msg + '\"' \n",
    "    lca_msg = '\", \"'.join(lca_metrics)\n",
    "    lca_msg = '\"' + lca_msg + '\"'\n",
    "    tea_lca_result_lbl.value = f'Showing results for TEA ({tea_msg}) and LCA ({lca_msg}) metrics.'\n",
    "    fig = plot_tea_lca(tea_metrics, lca_metrics)\n",
    "    display(fig)\n",
    "\n",
    "# Simulate button\n",
    "simulate_btn = w.Button(\n",
    "    description=' Simulate',\n",
    "    disabled=False,\n",
    "    # 'success' (green), 'info' (blue), 'warning' (yellow), 'danger' (red), or '' (grey)\n",
    "    button_style='success',\n",
    "    tooltip='Simulate and show results',\n",
    "    icon='play' # (FontAwesome names without the `fa-` prefix)\n",
    ")\n",
    "simulate_btn.on_click(simulate)\n",
    "\n",
    "# Result display\n",
    "tea_lca_result_lbl = w.Label('')\n",
    "\n",
    "##### Compiled run function #####\n",
    "def run_tea_lca_interactive():\n",
    "    with choice_out:\n",
    "        display(opt_lbl)\n",
    "        display(tea_box)\n",
    "        display(lca_box)\n",
    "        display(simulate_btn)\n",
    "    with divider_out:\n",
    "        display(divider)\n",
    "        display(tea_lca_result_lbl)\n",
    "    display(choice_out)\n",
    "    display(divider_out)\n",
    "    display(result_out)"
   ]
  },
  {
   "cell_type": "code",
   "execution_count": 19,
   "id": "eb888f2d",
   "metadata": {
    "scrolled": false
   },
   "outputs": [
    {
     "data": {
      "application/vnd.jupyter.widget-view+json": {
       "model_id": "aaa9cd46b3ba4e0ebe27809ed73eab64",
       "version_major": 2,
       "version_minor": 0
      },
      "text/plain": [
       "Output()"
      ]
     },
     "metadata": {},
     "output_type": "display_data"
    },
    {
     "data": {
      "application/vnd.jupyter.widget-view+json": {
       "model_id": "bf01eeef2d4d4fd69ed05cf946efbd7b",
       "version_major": 2,
       "version_minor": 0
      },
      "text/plain": [
       "Output()"
      ]
     },
     "metadata": {},
     "output_type": "display_data"
    },
    {
     "data": {
      "application/vnd.jupyter.widget-view+json": {
       "model_id": "1ec984d8fb5446aa87495ef1aa987a2e",
       "version_major": 2,
       "version_minor": 0
      },
      "text/plain": [
       "Output()"
      ]
     },
     "metadata": {},
     "output_type": "display_data"
    }
   ],
   "source": [
    "run_tea_lca_interactive()"
   ]
  },
  {
   "cell_type": "markdown",
   "id": "ba022fee",
   "metadata": {},
   "source": [
    "[Back to top](#top)"
   ]
  },
  {
   "cell_type": "markdown",
   "id": "207c16be",
   "metadata": {},
   "source": [
    "### 1.3. MCDA <a class=\"anchor\" id=\"s1.3\"></a>"
   ]
  },
  {
   "cell_type": "code",
   "execution_count": 22,
   "id": "5c4ecdf0",
   "metadata": {},
   "outputs": [],
   "source": [
    "from ipywidgets import widgets as w\n",
    "from systems import plot_mcda\n",
    "\n",
    "# Placeholders for outputs\n",
    "choice_out = w.Output()\n",
    "divider_out = w.Output()\n",
    "result_out = w.Output()\n",
    "\n",
    "##### User inputs #####\n",
    "tea_lbl = w.Label('Which TEA metric do you want to use for the economic criterion?')\n",
    "tea_opts = ['net', 'CAPEX', 'OPEX', 'sales']\n",
    "tea_btn = w.RadioButtons(\n",
    "    options=tea_opts, \n",
    "    index=0,\n",
    "    disabled=False)\n",
    "\n",
    "lca_lbl = w.Label('Which LCA metric do you want to use for the environmental criterion?')\n",
    "lca_opts = ['net', 'construction', 'operating', 'transportation', 'direct', 'offset']\n",
    "lca_btn = w.RadioButtons(\n",
    "    options=lca_opts, \n",
    "    index=0,\n",
    "    disabled=False)\n",
    "\n",
    "##### Divider #####\n",
    "divider = w.Image(value=open('files/divider.png', 'rb').read(), format='png')\n",
    "\n",
    "##### Results #####\n",
    "@result_out.capture(clear_output=True, wait=True)\n",
    "def simulate(btn=None):\n",
    "    tea_metric = tea_btn.value\n",
    "    lca_metric = lca_btn.value\n",
    "    result_lbl.value = f'Showing MCDA results for the TEA (\"{tea_metric}\") ' \\\n",
    "        f'and the LCA metric (\"{lca_metric}\").'\n",
    "    fig = plot_mcda(tea_metric=tea_metric, lca_metric=lca_metric)\n",
    "    display(fig)\n",
    "    \n",
    "# Simulate button\n",
    "simulate_btn = w.Button(\n",
    "    description=' Simulate',\n",
    "    disabled=False,\n",
    "    button_style='success',\n",
    "    tooltip='Simulate and show results',\n",
    "    icon='play'\n",
    ")\n",
    "simulate_btn.on_click(simulate)\n",
    "\n",
    "# Result display\n",
    "result_lbl = w.Label('')\n",
    "\n",
    "##### Compiled run function #####\n",
    "def run_mcda_interactive():\n",
    "    with choice_out:\n",
    "        display(tea_lbl)\n",
    "        display(tea_btn)\n",
    "        display(lca_lbl)\n",
    "        display(lca_btn)\n",
    "        display(simulate_btn)\n",
    "    with divider_out:\n",
    "        display(divider)\n",
    "        display(result_lbl)\n",
    "    display(choice_out)\n",
    "    display(divider_out)\n",
    "    display(result_out)"
   ]
  },
  {
   "cell_type": "code",
   "execution_count": 23,
   "id": "eef4a717",
   "metadata": {
    "scrolled": false
   },
   "outputs": [
    {
     "data": {
      "application/vnd.jupyter.widget-view+json": {
       "model_id": "0a2a1c556f8f496fbd2aca51fa3ccb94",
       "version_major": 2,
       "version_minor": 0
      },
      "text/plain": [
       "Output()"
      ]
     },
     "metadata": {},
     "output_type": "display_data"
    },
    {
     "data": {
      "application/vnd.jupyter.widget-view+json": {
       "model_id": "64f40b4577ef480f9dddf3b09ffdd59d",
       "version_major": 2,
       "version_minor": 0
      },
      "text/plain": [
       "Output()"
      ]
     },
     "metadata": {},
     "output_type": "display_data"
    },
    {
     "data": {
      "application/vnd.jupyter.widget-view+json": {
       "model_id": "d42951230dc24c1585e12db510125420",
       "version_major": 2,
       "version_minor": 0
      },
      "text/plain": [
       "Output()"
      ]
     },
     "metadata": {},
     "output_type": "display_data"
    }
   ],
   "source": [
    "run_mcda_interactive()"
   ]
  },
  {
   "cell_type": "markdown",
   "id": "dafe9662",
   "metadata": {},
   "source": [
    "[Back to top](#top)"
   ]
  },
  {
   "cell_type": "markdown",
   "id": "73ddb4b6",
   "metadata": {},
   "source": [
    "## 2. Uncertainty and Sensitivity Analyses <a class=\"anchor\" id=\"s2\"></a>"
   ]
  },
  {
   "cell_type": "code",
   "execution_count": 27,
   "id": "1399dcc7",
   "metadata": {},
   "outputs": [],
   "source": [
    "from ipywidgets import widgets as w\n",
    "from qsdsan import stats as s\n",
    "from models import create_model, run_uncertainties, get_param_metric\n",
    "\n",
    "modelA = create_model('A')\n",
    "modelB = create_model('B')\n",
    "\n",
    "# Placeholders for outputs\n",
    "choice_out = w.Output()\n",
    "divider_out = w.Output()\n",
    "simulate_out = w.Output()\n",
    "plot_out = w.Output()\n",
    "figure_out = w.Output()\n",
    "\n",
    "##### User inputs #####\n",
    "# Number of samples\n",
    "N_lbl = w.Label('How many samples would you like to run (100 takes 1-2 min)?')\n",
    "N_txt = w.IntText(\n",
    "    value='100',\n",
    "    placeholder='N of samples',\n",
    "    description='Integer:',\n",
    "    disabled=False\n",
    ")\n",
    "\n",
    "# Uncertainty results\n",
    "metrics = [m.name for m in modelA.metrics] # names are the same for modelA and modelB\n",
    "ua_lbl = w.Label('Which metric(s) to show for uncertainty analysis results (one or more)?')\n",
    "ua_box = w.SelectMultiple(\n",
    "    options=metrics,\n",
    "    rows=len(metrics),\n",
    "    disabled=False,\n",
    "    style={'description_width': 'initial'},\n",
    "    layout={'width':'50%'}\n",
    ")\n",
    "\n",
    "# Sensitivity\n",
    "sa_lbl = w.Label('Which metric to show for sensitivity analysis results (select one)?')\n",
    "sa_menu = w.Dropdown(\n",
    "    options=metrics,\n",
    "    disabled=False,\n",
    ")\n",
    "\n",
    "##### Divider #####\n",
    "divider = w.Image(value=open('files/divider.png', 'rb').read(), format='png')\n",
    "\n",
    "##### Results #####\n",
    "# Simulate button\n",
    "simulate_btn = w.Button(\n",
    "    description=' Simulate',\n",
    "    disabled=False,\n",
    "    button_style='success',\n",
    "    tooltip='Evaluate models',\n",
    "    icon='play'\n",
    ")\n",
    "\n",
    "# Wait prompt\n",
    "wait_lbl = w.Label('')\n",
    "\n",
    "@simulate_out.capture(clear_output=True, wait=True)\n",
    "def simulate(btn=None):\n",
    "    wait_lbl.value = 'Sit tight while the models are running...'\n",
    "    global modelA, modelB\n",
    "    modelA, modelB = run_uncertainties(N=int(N_txt.value))\n",
    "    wait_lbl.value = 'Simulation done!'\n",
    "    display(wait_lbl)\n",
    "    display(plot_out)\n",
    "simulate_btn.on_click(simulate)\n",
    "\n",
    "# Plot button\n",
    "plot_btn = w.Button(\n",
    "    description='Plot Results',\n",
    "    disabled=False,\n",
    "    button_style='success',\n",
    "    tooltip='Plot results',\n",
    "    icon='play'\n",
    ")\n",
    "@figure_out.capture(clear_output=True, wait=True)\n",
    "def plot(btn=None):\n",
    "    ua_metrics = [get_param_metric(i, modelA, 'metric') for i in ua_box.value]\n",
    "    print('\\nUncertainty analysis results for sysA:\\n')\n",
    "    ua_figA = s.plot_uncertainties(modelA, x_axis=ua_metrics)[0]\n",
    "    display(ua_figA)\n",
    "    print('\\nUncertainty analysis results for sysB:\\n')\n",
    "    ua_figB = s.plot_uncertainties(modelB, x_axis=ua_metrics)[0]\n",
    "    display(ua_figB)\n",
    "    \n",
    "    print('\\nSensitivity analysis results for sysA:\\n')\n",
    "    sa_metric = get_param_metric(sa_menu.value, modelA, 'metric')\n",
    "    spearmanA = s.get_correlations(modelA, input_y=sa_metric, kind='Spearman')[0]\n",
    "    sa_figA = s.plot_correlations(spearmanA, top=10)[0]\n",
    "    display(sa_figA)\n",
    "    \n",
    "    print('\\nSensitivity analysis results for sysB:\\n')\n",
    "    spearmanB = s.get_correlations(modelB, input_y=sa_metric, kind='Spearman')[0]\n",
    "    sa_figB = s.plot_correlations(spearmanB, top=10)[0]\n",
    "    display(sa_figB)\n",
    "plot_btn.on_click(plot)\n",
    "    \n",
    "##### Compiled run function #####\n",
    "def run_uncertainty_sensitivity_interactive():\n",
    "    with choice_out:\n",
    "        display(N_lbl)\n",
    "        display(N_txt)\n",
    "    with divider_out:\n",
    "        display(divider)\n",
    "        display(simulate_btn)\n",
    "    with simulate_out:\n",
    "        display(wait_lbl)\n",
    "    with plot_out:\n",
    "        display(divider)\n",
    "        display(ua_lbl)\n",
    "        display(ua_box)\n",
    "        display(sa_lbl)\n",
    "        display(sa_menu)\n",
    "        display(plot_btn)\n",
    "    display(choice_out)\n",
    "    display(divider_out)\n",
    "    display(simulate_out)\n",
    "    display(figure_out)"
   ]
  },
  {
   "cell_type": "code",
   "execution_count": 28,
   "id": "56836bca",
   "metadata": {
    "scrolled": false
   },
   "outputs": [
    {
     "data": {
      "application/vnd.jupyter.widget-view+json": {
       "model_id": "22c7d465bef84e22a2208d1d5bfb8338",
       "version_major": 2,
       "version_minor": 0
      },
      "text/plain": [
       "Output()"
      ]
     },
     "metadata": {},
     "output_type": "display_data"
    },
    {
     "data": {
      "application/vnd.jupyter.widget-view+json": {
       "model_id": "5a3a3937365e4693a551f5e00d629a0d",
       "version_major": 2,
       "version_minor": 0
      },
      "text/plain": [
       "Output()"
      ]
     },
     "metadata": {},
     "output_type": "display_data"
    },
    {
     "data": {
      "application/vnd.jupyter.widget-view+json": {
       "model_id": "e1b3e05591444a7ebe2a101c65f698fd",
       "version_major": 2,
       "version_minor": 0
      },
      "text/plain": [
       "Output()"
      ]
     },
     "metadata": {},
     "output_type": "display_data"
    },
    {
     "data": {
      "application/vnd.jupyter.widget-view+json": {
       "model_id": "454d2484f1c64b288e87f63b9bd110c7",
       "version_major": 2,
       "version_minor": 0
      },
      "text/plain": [
       "Output()"
      ]
     },
     "metadata": {},
     "output_type": "display_data"
    }
   ],
   "source": [
    "run_uncertainty_sensitivity_interactive()"
   ]
  },
  {
   "cell_type": "markdown",
   "id": "433f1d3a",
   "metadata": {},
   "source": [
    "[Back to top](#top)"
   ]
  },
  {
   "cell_type": "markdown",
   "id": "23c56b0d",
   "metadata": {},
   "source": [
    "## 3. Country-Specific Analysis <a class=\"anchor\" id=\"s3\"></a>"
   ]
  },
  {
   "cell_type": "code",
   "execution_count": 27,
   "id": "51b31bf5",
   "metadata": {},
   "outputs": [],
   "source": [
    "from ipywidgets import widgets as w\n",
    "from country_specific import val_dct_cached, get_val_df, get_results, plot\n",
    "\n",
    "# Placeholders for outputs\n",
    "choice_out = w.Output()\n",
    "data_out = w.Output()\n",
    "result_out = w.Output()\n",
    "\n",
    "def clear_results(btn=None):\n",
    "    result_out.clear_output()\n",
    "    \n",
    "data_result_outs = (data_out, result_out)\n",
    "def clear_data_results(btn=None):\n",
    "    for out in data_result_outs:\n",
    "        out.clear_output()\n",
    "        \n",
    "all_outs = (choice_out, data_out, result_out)\n",
    "def clear_all_outs(btn=None):\n",
    "    for out in all_outs:\n",
    "        out.clear_output()\n",
    "\n",
    "##### User inputs #####\n",
    "# Error prompt\n",
    "error_lbl = w.Label('')\n",
    "\n",
    "# When using database\n",
    "style = {'description_width': 'initial'}\n",
    "country_lbl = w.Label('Please enter a country name:')\n",
    "country_txt = w.Text('')\n",
    "country_btn = w.Button(\n",
    "    description=' Retrieve Data',\n",
    "    disabled=False,\n",
    "    button_style='success',\n",
    "    tooltip='Run database values for the parameters',\n",
    "    icon='play'\n",
    ")\n",
    "param_lbl = w.Label('')\n",
    "\n",
    "# When using user-inputting values\n",
    "input_lbl = w.Label('Please enter values for the following parameters:')\n",
    "caloric_intake = w.Combobox(\n",
    "    value='2130',\n",
    "    placeholder='baseline 2130 [kcal/d]',\n",
    "    description='Caloric intake:',\n",
    "    style=style, disabled=False)\n",
    "\n",
    "vegetable_protein = w.Combobox(\n",
    "    value='40.29',\n",
    "    placeholder='baseline 40.29 [g/d]',\n",
    "    description='Vegetable protein intake:',\n",
    "    style=style, disabled=False)\n",
    "\n",
    "animal_protein = w.Combobox(\n",
    "    value='12.39',\n",
    "    placeholder='baseline 12.39 [g/d]',\n",
    "    description='Animal protein intake:',\n",
    "    style=style, disabled=False)\n",
    "\n",
    "N_price = w.Combobox(\n",
    "    value='1.507',\n",
    "    placeholder='baseline 1.507 [USD/kg N]',\n",
    "    description='N fertilizer price:',\n",
    "    style=style, disabled=False)\n",
    "\n",
    "P_price = w.Combobox(\n",
    "    value='3.983',\n",
    "    placeholder='baseline 3.983 [USD/kg P]',\n",
    "    description='P fertilizer price:',\n",
    "    style=style, disabled=False)\n",
    "\n",
    "K_price = w.Combobox(\n",
    "    value='1.333',\n",
    "    placeholder='baseline 1.333 [USD/kg K]',\n",
    "    description='K fertilizer price:',\n",
    "    style=style, disabled=False)\n",
    "\n",
    "food_waste_ratio = w.Combobox(\n",
    "    value='0.02',\n",
    "    placeholder='baseline 0.02 [fraction]',\n",
    "    description='Food waste ratio:',\n",
    "    style=style, disabled=False)\n",
    "\n",
    "price_level_ratio = w.Combobox(\n",
    "    value='1',\n",
    "    placeholder='baseline 1',\n",
    "    description='Price level ratio:',\n",
    "    style=style, disabled=False)\n",
    "\n",
    "income_tax = w.Combobox(\n",
    "    value='0.3',\n",
    "    placeholder='baseline 0.3 [fraction]',\n",
    "    description='Income tax:',\n",
    "    style=style, disabled=False)\n",
    "\n",
    "all_inputs = (\n",
    "    caloric_intake,\n",
    "    vegetable_protein,\n",
    "    animal_protein,\n",
    "    N_price,\n",
    "    P_price,\n",
    "    K_price,\n",
    "    food_waste_ratio,\n",
    "    price_level_ratio,\n",
    "    income_tax,\n",
    ")\n",
    "\n",
    "customize_btn = w.Button(\n",
    "    description=' Confirm Data',\n",
    "    disabled=False,\n",
    "    button_style='success',\n",
    "    tooltip='Confirm the input data for simulation',\n",
    "    icon='play'\n",
    ")\n",
    "\n",
    "# Economic weight slider\n",
    "econ_wt_lbl = w.Label('Please use the slider to set the economic weight in MCDA')\n",
    "econ_wt_slider = w.FloatSlider(\n",
    "    value=0.5,\n",
    "    min=0.,\n",
    "    max=1.,\n",
    "    step=0.01,\n",
    "    description='Weight: ',\n",
    "    disabled=False,\n",
    "    continuous_update=True,\n",
    "    orientation='horizontal',\n",
    "    readout=True,\n",
    "    readout_format='.2f',\n",
    ")\n",
    "\n",
    "# Whether to use database data\n",
    "choice_btn = w.RadioButtons(\n",
    "    options=['Yes', 'No'], \n",
    "    index=0,\n",
    "    description='Would you like to use database values?',\n",
    "    style=style, disabled=False)\n",
    "\n",
    "def update_choice(btn=None):\n",
    "    clear_all_outs()\n",
    "    global choice\n",
    "    choice = choice_btn.value\n",
    "    if choice == 'Yes':\n",
    "        with choice_out:\n",
    "            display(country_lbl)\n",
    "            display(country_txt)\n",
    "            display(country_btn)\n",
    "        country_btn.on_click(display_database_data)\n",
    "    else:\n",
    "        with choice_out:\n",
    "            display(input_lbl)\n",
    "            display_customized_inputs()\n",
    "            display(customize_btn)\n",
    "        customize_btn.on_click(display_customized_data)            \n",
    "choice_btn.observe(update_choice)\n",
    "\n",
    "# Display based on the choice\n",
    "def display_database_data(btn=None):\n",
    "    global VALID\n",
    "    data_out.clear_output()\n",
    "    error_lbl.disabled = True\n",
    "    with data_out:\n",
    "        country = country_txt.value         \n",
    "        global val_dct, val_df\n",
    "        val_df = get_val_df(country)\n",
    "        if isinstance(val_df, str): # no info for the country\n",
    "            error_lbl.value = f'No data for country \"{country}\", please retry with another country name.'\n",
    "            error_lbl.disabled = False\n",
    "            display(error_lbl)\n",
    "            VALID = False\n",
    "        else:\n",
    "            error_lbl.disabled = True\n",
    "            param_lbl.value = f'Parameter values for \"{country}\":'\n",
    "            VALID = True\n",
    "    if VALID:\n",
    "        with data_out:\n",
    "            display(param_lbl)\n",
    "            display(val_df)\n",
    "            display(econ_wt_lbl)\n",
    "            display(econ_wt_slider)\n",
    "            display(simulate_btn)\n",
    "\n",
    "def display_customized_inputs():\n",
    "    choice_out.clear_output()\n",
    "    with choice_out:\n",
    "        val_dct = val_dct_cached.get('customized')\n",
    "        val_dct = {} if val_dct is None else val_dct\n",
    "        for i in all_inputs:\n",
    "            display(i)\n",
    "            val_dct[i.description[:-1]] = float(i.value)\n",
    "        val_dct_cached['customized'] = val_dct\n",
    "\n",
    "@data_out.capture(clear_output=True, wait=True)\n",
    "def display_customized_data(btn=None):\n",
    "    with data_out:\n",
    "        global country\n",
    "        country_txt.value = country = 'customized'\n",
    "        global val_dct, val_df\n",
    "        val_df = get_val_df(country)\n",
    "        param_lbl.value = f'Customized parameter values:'\n",
    "        update_simulate()\n",
    "        display(param_lbl)\n",
    "        display(val_df)\n",
    "        display(econ_wt_lbl)\n",
    "        display(econ_wt_slider)\n",
    "        display(simulate_btn)\n",
    "\n",
    "##### Divider #####\n",
    "divider = w.Image(value=open('files/divider.png', 'rb').read(), format='png')\n",
    "\n",
    "##### Results #####\n",
    "# Simulate button\n",
    "simulate_btn = w.Button(\n",
    "    description=' Simulate',\n",
    "    disabled=False,\n",
    "    button_style='success',\n",
    "    tooltip='Simulate and show results',\n",
    "    icon='play'\n",
    ")\n",
    "def simulate(btn=None):\n",
    "    update_simulate()\n",
    "    if btn.button_style != 'success': return\n",
    "    \n",
    "    global results_dct\n",
    "    country = country_txt.value\n",
    "    weight = econ_wt_slider.value\n",
    "    results_dct = get_results(country)\n",
    "    with data_out:\n",
    "        print(f'Results for \"{country}\", economic weight is {weight}:')\n",
    "    ax = plot(results_dct, econ_wt_slider.value)\n",
    "    result_out.clear_output()\n",
    "    with result_out:\n",
    "        display(ax.figure)\n",
    "        display(clear_btn)\n",
    "            \n",
    "def update_simulate():\n",
    "    VALID = True\n",
    "    if choice == 'No':\n",
    "        global country, val_dct\n",
    "        country = 'customized'\n",
    "        val_dct = {}\n",
    "        for i in all_inputs:\n",
    "            try:\n",
    "                val = float(i.value)\n",
    "            except:\n",
    "                val = i.value\n",
    "                VALID = False\n",
    "            val_dct[i.description[:-1]] = val\n",
    "        val_dct_cached[country] = val_dct\n",
    "        if not VALID:\n",
    "            with data_out:\n",
    "                print(f'The value of input \"{i.description[:-1]}\" is \"{i.value}\", '\n",
    "                     'not valid. Please update the value and try again')\n",
    "    update_simulate_btn(VALID)\n",
    "\n",
    "def update_simulate_btn(VALID):\n",
    "    if VALID:\n",
    "        simulate_btn.button_style = 'success'\n",
    "        simulate_btn.description = ' Simulate'\n",
    "        simulate_btn.icon = 'play'\n",
    "    else:\n",
    "        simulate_btn.button_style = 'danger'\n",
    "        simulate_btn.description = ' Invalid Inputs'\n",
    "        simulate_btn.icon = 'stop'\n",
    "        data_out.clear_output()\n",
    "\n",
    "simulate_btn.on_click(simulate)\n",
    "\n",
    "# Clear button\n",
    "clear_btn = w.Button(\n",
    "    description=' Clear Outputs',\n",
    "    disabled=False,\n",
    "    button_style='warning',\n",
    "    tooltip='Clear all outputs',\n",
    "    icon='eraser'\n",
    ")\n",
    "clear_btn.on_click(clear_data_results)\n",
    "\n",
    "##### Compiled run function #####\n",
    "def run_country_specific_interactive():\n",
    "    update_choice() # initialize `choice_out` display\n",
    "    display(choice_btn)\n",
    "    display(choice_out)\n",
    "    display(data_out)\n",
    "    display(result_out)"
   ]
  },
  {
   "cell_type": "code",
   "execution_count": 28,
   "id": "138b3f7e",
   "metadata": {
    "scrolled": false
   },
   "outputs": [
    {
     "data": {
      "application/vnd.jupyter.widget-view+json": {
       "model_id": "6f060d0f50444f548bf30037302c6af8",
       "version_major": 2,
       "version_minor": 0
      },
      "text/plain": [
       "RadioButtons(description='Would you like to use database values?', options=('Yes', 'No'), style=DescriptionSty…"
      ]
     },
     "metadata": {},
     "output_type": "display_data"
    },
    {
     "data": {
      "application/vnd.jupyter.widget-view+json": {
       "model_id": "ce1f4ebe0c574b31be77db6431b16da0",
       "version_major": 2,
       "version_minor": 0
      },
      "text/plain": [
       "Output()"
      ]
     },
     "metadata": {},
     "output_type": "display_data"
    },
    {
     "data": {
      "application/vnd.jupyter.widget-view+json": {
       "model_id": "cb3cd9dc6d9e45dbaa8238b7cc0c6d22",
       "version_major": 2,
       "version_minor": 0
      },
      "text/plain": [
       "Output()"
      ]
     },
     "metadata": {},
     "output_type": "display_data"
    },
    {
     "data": {
      "application/vnd.jupyter.widget-view+json": {
       "model_id": "3ec13b27db4c4a1395255554c7b4e17f",
       "version_major": 2,
       "version_minor": 0
      },
      "text/plain": [
       "Output()"
      ]
     },
     "metadata": {},
     "output_type": "display_data"
    }
   ],
   "source": [
    "run_country_specific_interactive()"
   ]
  },
  {
   "cell_type": "markdown",
   "id": "0a8768a8",
   "metadata": {},
   "source": [
    "[Back to top](#top)"
   ]
  }
 ],
 "metadata": {
  "kernelspec": {
   "display_name": "Python 3 (ipykernel)",
   "language": "python",
   "name": "python3"
  },
  "language_info": {
   "codemirror_mode": {
    "name": "ipython",
    "version": 3
   },
   "file_extension": ".py",
   "mimetype": "text/x-python",
   "name": "python",
   "nbconvert_exporter": "python",
   "pygments_lexer": "ipython3",
   "version": "3.8.12"
  }
 },
 "nbformat": 4,
 "nbformat_minor": 5
}
